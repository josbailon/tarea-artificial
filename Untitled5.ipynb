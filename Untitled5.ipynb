{
 "cells": [
  {
   "cell_type": "code",
   "execution_count": 7,
   "metadata": {},
   "outputs": [
    {
     "data": {
      "text/html": [
       "\n",
       "<div style='text-align: center; margin-top: 50px; font-size: 30px; color: #686cb8; font-weight: bold;'>\n",
       "   CREAR UN ARREGLO DE 4 DIMENSIONES ORDENADOS<br> <br>POR LA EDAD O NOMBRE.\n",
       "</div>\n"
      ],
      "text/plain": [
       "<IPython.core.display.HTML object>"
      ]
     },
     "metadata": {},
     "output_type": "display_data"
    }
   ],
   "source": [
    "\n",
    "from IPython.display import display, HTML\n",
    "\n",
    "html_code = \"\"\"\n",
    "<div style='text-align: center; margin-top: 50px; font-size: 30px; color: #686cb8; font-weight: bold;'>\n",
    "   CREAR UN ARREGLO DE 4 DIMENSIONES ORDENADOS<br> <br>POR LA EDAD O NOMBRE.\n",
    "</div>\n",
    "\"\"\"\n",
    "display(HTML(html_code))\n"
   ]
  },
  {
   "cell_type": "code",
   "execution_count": 8,
   "metadata": {},
   "outputs": [
    {
     "name": "stdout",
     "output_type": "stream",
     "text": [
      "Arreglo original:\n",
      "[('jostin', 25) ('eduador', 30) ('Charlie', 22) ('Diana', 28)]\n",
      "\n",
      "Ordenado por Edad:\n",
      "[('Charlie', 22) ('jostin', 25) ('Diana', 28) ('eduador', 30)]\n",
      "\n",
      "Ordenado por Nombre:\n",
      "[('Charlie', 22) ('Diana', 28) ('eduador', 30) ('jostin', 25)]\n"
     ]
    }
   ],
   "source": [
    "import numpy as np\n",
    "\n",
    "# Crear un arreglo estructurado con Nombre (string) y Edad (int)\n",
    "data = np.array([\n",
    "    ('jostin', 25),\n",
    "    ('eduador', 30),\n",
    "    ('Charlie', 22),\n",
    "    ('Diana', 28)\n",
    "    \n",
    "], dtype=[('Nombre', 'U10'), ('Edad', 'i4')])\n",
    "\n",
    "# Ordenar por edad\n",
    "ordenado_por_edad = np.sort(data, order='Edad')\n",
    "\n",
    "# Ordenar por nombre\n",
    "ordenado_por_nombre = np.sort(data, order='Nombre')\n",
    "\n",
    "print(\"Arreglo original:\")\n",
    "print(data)\n",
    "\n",
    "print(\"\\nOrdenado por Edad:\")\n",
    "print(ordenado_por_edad)\n",
    "\n",
    "print(\"\\nOrdenado por Nombre:\")\n",
    "print(ordenado_por_nombre)\n"
   ]
  },
  {
   "cell_type": "code",
   "execution_count": 9,
   "metadata": {},
   "outputs": [
    {
     "data": {
      "text/html": [
       "\n",
       "<div style='text-align: center; margin-top: 50px; font-size: 30px; color: #686cb8; font-weight: bold;'>\n",
       "   CON LOS DATOS DE CANCIONES ELIJA LAS 3 COLUMNAS QUE <br><br> USTED DESEE  Y ORDENELAS ASCENDENTEMENTE\n",
       "</div>\n"
      ],
      "text/plain": [
       "<IPython.core.display.HTML object>"
      ]
     },
     "metadata": {},
     "output_type": "display_data"
    }
   ],
   "source": [
    "\n",
    "from IPython.display import display, HTML\n",
    "\n",
    "html_code = \"\"\"\n",
    "<div style='text-align: center; margin-top: 50px; font-size: 30px; color: #686cb8; font-weight: bold;'>\n",
    "   CON LOS DATOS DE CANCIONES ELIJA LAS 3 COLUMNAS QUE <br><br> USTED DESEE  Y ORDENELAS ASCENDENTEMENTE\n",
    "</div>\n",
    "\"\"\"\n",
    "display(HTML(html_code))\n",
    "\n"
   ]
  },
  {
   "cell_type": "code",
   "execution_count": 10,
   "metadata": {},
   "outputs": [],
   "source": [
    "import pandas as pd\n",
    "\n",
    "# Especifica la ruta del archivo CSV (asegúrate de que esté en el mismo directorio que este script)\n",
    "file_path = 'music.csv'\n",
    "\n",
    "# Cargar el archivo CSV\n",
    "music_data = pd.read_csv(file_path)\n",
    "\n"
   ]
  },
  {
   "cell_type": "code",
   "execution_count": 11,
   "metadata": {},
   "outputs": [
    {
     "name": "stdout",
     "output_type": "stream",
     "text": [
      "                                            artist.name  song.tempo  song.year\n",
      "280                                                 !!!     193.978       2007\n",
      "9643                                         (hed) p.e.     106.681          0\n",
      "5443  089 Clique feat. Minnesota Snipe & Skinny Cueball     160.159          0\n",
      "5339                           089 Clique feat. Prophet     105.130          0\n",
      "522                         1. Futurologischer Congress      80.315          0\n",
      "...                                                 ...         ...        ...\n",
      "7631                                         themselves     116.915       2009\n",
      "9978                                         themselves     167.885       2003\n",
      "9578                                             unloco     126.113       2001\n",
      "8397                                             unloco     145.717       2001\n",
      "3752                                             unloco     155.793       2001\n",
      "\n",
      "[10000 rows x 3 columns]\n"
     ]
    }
   ],
   "source": [
    "# Seleccionar tres columnas: 'artist.name', 'song.tempo', 'song.year'\n",
    "selected_columns = ['artist.name', 'song.tempo', 'song.year']\n",
    "\n",
    "# Ordenar los datos ascendentemente por las columnas seleccionadas\n",
    "sorted_music_data = music_data[selected_columns].sort_values(by=selected_columns, ascending=True)\n",
    "\n",
    "# Mostrar los datos ordenados\n",
    "print(sorted_music_data)\n",
    "\n",
    "\n"
   ]
  },
  {
   "cell_type": "code",
   "execution_count": 12,
   "metadata": {},
   "outputs": [
    {
     "data": {
      "text/html": [
       "\n",
       "<div style='text-align: center; margin-top: 50px; font-size: 30px; color: #686cb8; font-weight: bold;'>\n",
       "Con estos datos que ya tienes agrega una nueva columna para <br><br>que puedas predecir</div>\n"
      ],
      "text/plain": [
       "<IPython.core.display.HTML object>"
      ]
     },
     "metadata": {},
     "output_type": "display_data"
    }
   ],
   "source": [
    "from IPython.display import display, HTML\n",
    "\n",
    "html_code = \"\"\"\n",
    "<div style='text-align: center; margin-top: 50px; font-size: 30px; color: #686cb8; font-weight: bold;'>\n",
    "Con estos datos que ya tienes agrega una nueva columna para <br><br>que puedas predecir</div>\n",
    "\"\"\"\n",
    "display(HTML(html_code))\n",
    "\n"
   ]
  },
  {
   "cell_type": "code",
   "execution_count": 13,
   "metadata": {},
   "outputs": [
    {
     "name": "stdout",
     "output_type": "stream",
     "text": [
      "Requirement already satisfied: pandas in c:\\users\\josti\\appdata\\local\\programs\\python\\python313\\lib\\site-packages (2.2.3)\n",
      "Requirement already satisfied: numpy in c:\\users\\josti\\appdata\\local\\programs\\python\\python313\\lib\\site-packages (2.2.0)\n",
      "Requirement already satisfied: scikit-learn in c:\\users\\josti\\appdata\\local\\programs\\python\\python313\\lib\\site-packages (1.5.2)\n",
      "Requirement already satisfied: matplotlib in c:\\users\\josti\\appdata\\local\\programs\\python\\python313\\lib\\site-packages (3.9.3)\n",
      "Requirement already satisfied: python-dateutil>=2.8.2 in c:\\users\\josti\\appdata\\local\\programs\\python\\python313\\lib\\site-packages (from pandas) (2.9.0.post0)\n",
      "Requirement already satisfied: pytz>=2020.1 in c:\\users\\josti\\appdata\\local\\programs\\python\\python313\\lib\\site-packages (from pandas) (2024.2)\n",
      "Requirement already satisfied: tzdata>=2022.7 in c:\\users\\josti\\appdata\\local\\programs\\python\\python313\\lib\\site-packages (from pandas) (2024.2)\n",
      "Requirement already satisfied: scipy>=1.6.0 in c:\\users\\josti\\appdata\\local\\programs\\python\\python313\\lib\\site-packages (from scikit-learn) (1.14.1)\n",
      "Requirement already satisfied: joblib>=1.2.0 in c:\\users\\josti\\appdata\\local\\programs\\python\\python313\\lib\\site-packages (from scikit-learn) (1.4.2)\n",
      "Requirement already satisfied: threadpoolctl>=3.1.0 in c:\\users\\josti\\appdata\\local\\programs\\python\\python313\\lib\\site-packages (from scikit-learn) (3.5.0)\n",
      "Requirement already satisfied: contourpy>=1.0.1 in c:\\users\\josti\\appdata\\local\\programs\\python\\python313\\lib\\site-packages (from matplotlib) (1.3.1)\n",
      "Requirement already satisfied: cycler>=0.10 in c:\\users\\josti\\appdata\\local\\programs\\python\\python313\\lib\\site-packages (from matplotlib) (0.12.1)\n",
      "Requirement already satisfied: fonttools>=4.22.0 in c:\\users\\josti\\appdata\\local\\programs\\python\\python313\\lib\\site-packages (from matplotlib) (4.55.2)\n",
      "Requirement already satisfied: kiwisolver>=1.3.1 in c:\\users\\josti\\appdata\\local\\programs\\python\\python313\\lib\\site-packages (from matplotlib) (1.4.7)\n",
      "Requirement already satisfied: packaging>=20.0 in c:\\users\\josti\\appdata\\local\\programs\\python\\python313\\lib\\site-packages (from matplotlib) (24.1)\n",
      "Requirement already satisfied: pillow>=8 in c:\\users\\josti\\appdata\\local\\programs\\python\\python313\\lib\\site-packages (from matplotlib) (11.0.0)\n",
      "Requirement already satisfied: pyparsing>=2.3.1 in c:\\users\\josti\\appdata\\local\\programs\\python\\python313\\lib\\site-packages (from matplotlib) (3.2.0)\n",
      "Requirement already satisfied: six>=1.5 in c:\\users\\josti\\appdata\\local\\programs\\python\\python313\\lib\\site-packages (from python-dateutil>=2.8.2->pandas) (1.16.0)\n",
      "Note: you may need to restart the kernel to use updated packages.\n"
     ]
    },
    {
     "name": "stderr",
     "output_type": "stream",
     "text": [
      "\n",
      "[notice] A new release of pip is available: 24.2 -> 24.3.1\n",
      "[notice] To update, run: python.exe -m pip install --upgrade pip\n"
     ]
    }
   ],
   "source": [
    "%pip install pandas numpy scikit-learn matplotlib\n",
    "\n",
    "import pandas as pd\n",
    "import numpy as np\n",
    "from sklearn.model_selection import train_test_split\n",
    "from sklearn.linear_model import LinearRegression\n",
    "from sklearn.metrics import mean_squared_error\n",
    "import matplotlib.pyplot as plt"
   ]
  },
  {
   "cell_type": "code",
   "execution_count": 14,
   "metadata": {},
   "outputs": [],
   "source": [
    "\n",
    "# Crear el DataFrame con los datos proporcionados\n",
    "data = {\n",
    "    \"Años de experiencia\": [\n",
    "        1.1, 1.3, 1.5, 2.0, 2.2, 2.9, 3.0, 3.2, 3.2, 3.7, 3.9, 4.0, 4.0, 4.1,\n",
    "        4.5, 4.9, 5.1, 5.3, 5.9, 6.0, 6.8, 7.1, 7.9, 8.2, 8.7, 9.0, 9.5, 9.6, \n",
    "        10.3, 10.5\n",
    "    ],\n",
    "    \"Salario\": [\n",
    "        39343.00, 46205.00, 37731.00, 43525.00, 39891.00, 56642.00, 60150.00, \n",
    "        54445.00, 64445.00, 57189.00, 63218.00, 55794.00, 56957.00, 57081.00, \n",
    "        61111.00, 67938.00, 66029.00, 83088.00, 81363.00, 93940.00, 91738.00, \n",
    "        98273.00, 101302.00, 113812.00, 109431.00, 105582.00, 116969.00, \n",
    "        112635.00, 122391.00, 121872.00\n",
    "    ]\n",
    "}\n"
   ]
  },
  {
   "cell_type": "code",
   "execution_count": 15,
   "metadata": {},
   "outputs": [],
   "source": [
    "# Agregar una columna de países (simulada)\n",
    "countries = [\"Ecuador\", \"España\", \"México\"] * 10\n",
    "data['País'] = countries[:len(data[\"Años de experiencia\"])]\n"
   ]
  },
  {
   "cell_type": "code",
   "execution_count": 16,
   "metadata": {},
   "outputs": [],
   "source": [
    "\n",
    "# Convertir los nombres de los países a valores numéricos\n",
    "country_mapping = {\"Ecuador\": 1, \"España\": 2, \"México\": 3}\n",
    "data['País_Numérico'] = pd.Series(data['País']).map(country_mapping)"
   ]
  },
  {
   "cell_type": "code",
   "execution_count": 17,
   "metadata": {},
   "outputs": [],
   "source": [
    "\n",
    "# Crear el DataFrame\n",
    "df = pd.DataFrame(data)\n",
    "\n"
   ]
  },
  {
   "cell_type": "code",
   "execution_count": 18,
   "metadata": {},
   "outputs": [],
   "source": [
    "# Dividir los datos en variables independientes (X) y dependiente (y)\n",
    "X = df[['Años de experiencia', 'País_Numérico']]  # Variables independientes\n",
    "y = df['Salario']  # Variable dependiente\n",
    "\n",
    "# Dividir el dataset en conjuntos de entrenamiento y prueba\n",
    "X_train, X_test, y_train, y_test = train_test_split(X, y, test_size=0.2, random_state=42)"
   ]
  },
  {
   "cell_type": "code",
   "execution_count": 19,
   "metadata": {},
   "outputs": [
    {
     "name": "stdout",
     "output_type": "stream",
     "text": [
      "Error cuadrático medio: 72097660.01172788\n",
      "Coeficientes: [ 9486.49116212 -1580.59144148]\n",
      "Intercepto: 28157.634979458213\n"
     ]
    }
   ],
   "source": [
    "# Crear el modelo de regresión lineal\n",
    "model = LinearRegression()\n",
    "\n",
    "# Entrenar el modelo\n",
    "model.fit(X_train, y_train)\n",
    "\n",
    "# Realizar predicciones\n",
    "y_pred = model.predict(X_test)\n",
    "\n",
    "# Calcular el error cuadrático medio\n",
    "mse = mean_squared_error(y_test, y_pred)\n",
    "print(f\"Error cuadrático medio: {mse}\")\n",
    "\n",
    "# Mostrar los coeficientes del modelo\n",
    "print(f\"Coeficientes: {model.coef_}\")\n",
    "print(f\"Intercepto: {model.intercept_}\")\n"
   ]
  },
  {
   "cell_type": "code",
   "execution_count": 20,
   "metadata": {},
   "outputs": [
    {
     "data": {
      "image/png": "[encoded data removed]",
      "text/plain": [
       "<Figure size 1000x700 with 1 Axes>"
      ]
     },
     "metadata": {},
     "output_type": "display_data"
    }
   ],
   "source": [
    "import matplotlib.pyplot as plt\n",
    "\n",
    "# Visualización de resultados\n",
    "plt.figure(figsize=(10, 7))\n",
    "\n",
    "# Colores según el país (en todo el dataset para la visualización)\n",
    "color_mapping = {\"Ecuador\": 'red', \"España\": 'blue', \"México\": 'green'}\n",
    "\n",
    "# Crear colores para los datos de prueba (basado en índices de prueba)\n",
    "colors_test = [color_mapping[c] for c in df.loc[X_test.index, 'País']]\n",
    "\n",
    "# Gráfico de dispersión para los salarios reales (conjunto de prueba)\n",
    "plt.scatter(X_test['Años de experiencia'], y_test, color=colors_test, label='Reales (Prueba)', alpha=0.7, edgecolor='k')\n",
    "\n",
    "# Gráfico de dispersión para las predicciones\n",
    "plt.scatter(X_test['Años de experiencia'], y_pred, color='orange', label='Predicciones', alpha=0.7, marker='x')\n",
    "\n",
    "# Configuración del gráfico\n",
    "plt.xlabel('Años de experiencia')\n",
    "plt.ylabel('Salario')\n",
    "plt.title('Relación entre Años de Experiencia y Salario (Reales vs. Predicciones)')\n",
    "plt.legend()\n",
    "plt.grid(True)\n",
    "\n",
    "# Mostrar el gráfico\n",
    "plt.show()"
   ]
  },
  {
   "cell_type": "code",
   "execution_count": null,
   "metadata": {},
   "outputs": [],
   "source": []
  },
  {
   "cell_type": "code",
   "execution_count": null,
   "metadata": {},
   "outputs": [],
   "source": []
  }
 ],
 "metadata": {
  "kernelspec": {
   "display_name": "Python 3",
   "language": "python",
   "name": "python3"
  },
  "language_info": {
   "codemirror_mode": {
    "name": "ipython",
    "version": 3
   },
   "file_extension": ".py",
   "mimetype": "text/x-python",
   "name": "python",
   "nbconvert_exporter": "python",
   "pygments_lexer": "ipython3",
   "version": "3.13.0"
  }
 },
 "nbformat": 4,
 "nbformat_minor": 2
}
